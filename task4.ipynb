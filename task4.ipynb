{
 "cells": [
  {
   "metadata": {},
   "cell_type": "markdown",
   "source": [
    "# Лабораторная 2. Упражнение 2. Вариант 22 (=3)\n",
    "Реализуйте функцию $f(x_1,x_2) = NOT(x_1 \\; XOR \\; x_2)$. Выполните симуляцию. Получите математическое обоснование результата."
   ],
   "id": "7c8c48687c4f8b18"
  },
  {
   "metadata": {
    "ExecuteTime": {
     "end_time": "2024-12-19T06:23:48.397941Z",
     "start_time": "2024-12-19T06:23:48.032780Z"
    }
   },
   "cell_type": "code",
   "source": [
    "from math import pi\n",
    "import pandas as pd\n",
    "from matplotlib import pyplot as plt\n",
    "from matplotlib.backends.backend_agg import FigureCanvasAgg\n",
    "from qiskit import QuantumCircuit\n",
    "from qiskit.visualization import plot_bloch_multivector\n",
    "from qiskit_aer import AerSimulator\n",
    "from qiskit.quantum_info import Statevector\n",
    "\n",
    "\n",
    "simulator = AerSimulator()\n",
    "\n",
    "\n",
    "def not_xor(ax, x1, x2):\n",
    "    qc = QuantumCircuit(2, 1)\n",
    "\n",
    "    qc.initialize([1 - x1, x1], 0)\n",
    "    qc.initialize([1 - x2, x2], 1)\n",
    "\n",
    "    qc.cx(1, 0)\n",
    "    qc.x(0)\n",
    "    qc.measure(0, 0)\n",
    "    \n",
    "    qc.draw('mpl', ax=ax)\n",
    "    \n",
    "    return simulator.run(qc).result().get_counts(qc)\n",
    "\n",
    "\n",
    "_, axes = plt.subplots(2, 2)\n",
    "pd.DataFrame({\n",
    "    a: {\n",
    "        b: not_xor(axes[a, b], a, b)\n",
    "        for b in [0, 1]\n",
    "    }\n",
    "    for a in [0, 1]\n",
    "})"
   ],
   "id": "e4f3aff5e0bb3732",
   "outputs": [
    {
     "data": {
      "text/plain": [
       "             0            1\n",
       "0  {'1': 1024}  {'0': 1024}\n",
       "1  {'0': 1024}  {'1': 1024}"
      ],
      "text/html": [
       "<div>\n",
       "<style scoped>\n",
       "    .dataframe tbody tr th:only-of-type {\n",
       "        vertical-align: middle;\n",
       "    }\n",
       "\n",
       "    .dataframe tbody tr th {\n",
       "        vertical-align: top;\n",
       "    }\n",
       "\n",
       "    .dataframe thead th {\n",
       "        text-align: right;\n",
       "    }\n",
       "</style>\n",
       "<table border=\"1\" class=\"dataframe\">\n",
       "  <thead>\n",
       "    <tr style=\"text-align: right;\">\n",
       "      <th></th>\n",
       "      <th>0</th>\n",
       "      <th>1</th>\n",
       "    </tr>\n",
       "  </thead>\n",
       "  <tbody>\n",
       "    <tr>\n",
       "      <th>0</th>\n",
       "      <td>{'1': 1024}</td>\n",
       "      <td>{'0': 1024}</td>\n",
       "    </tr>\n",
       "    <tr>\n",
       "      <th>1</th>\n",
       "      <td>{'0': 1024}</td>\n",
       "      <td>{'1': 1024}</td>\n",
       "    </tr>\n",
       "  </tbody>\n",
       "</table>\n",
       "</div>"
      ]
     },
     "execution_count": 30,
     "metadata": {},
     "output_type": "execute_result"
    },
    {
     "data": {
      "text/plain": [
       "<Figure size 640x480 with 4 Axes>"
      ],
      "image/png": "[encoded data removed]"
     },
     "metadata": {},
     "output_type": "display_data"
    }
   ],
   "execution_count": 30
  },
  {
   "metadata": {},
   "cell_type": "markdown",
   "source": "",
   "id": "4799d50f64748080"
  },
  {
   "metadata": {},
   "cell_type": "markdown",
   "source": "Реализуйте алгоритм получения остатка от деления числа 7 на 15. Выполните симуляцию. Получите математическое обоснование результата.",
   "id": "ab2b879c91df4262"
  }
 ],
 "metadata": {
  "kernelspec": {
   "display_name": "Python 3",
   "language": "python",
   "name": "python3"
  },
  "language_info": {
   "codemirror_mode": {
    "name": "ipython",
    "version": 2
   },
   "file_extension": ".py",
   "mimetype": "text/x-python",
   "name": "python",
   "nbconvert_exporter": "python",
   "pygments_lexer": "ipython2",
   "version": "2.7.6"
  }
 },
 "nbformat": 4,
 "nbformat_minor": 5
}
