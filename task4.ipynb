{
 "cells": [
  {
   "metadata": {},
   "cell_type": "markdown",
   "source": [
    "# Лабораторная 2. Упражнение 2.\n",
    "## Импорты"
   ],
   "id": "7c8c48687c4f8b18"
  },
  {
   "metadata": {},
   "cell_type": "code",
   "outputs": [],
   "execution_count": null,
   "source": [
    "from math import pi\n",
    "\n",
    "from matplotlib import pyplot as plt\n",
    "from matplotlib.backends.backend_agg import FigureCanvasAgg\n",
    "from qiskit import QuantumCircuit\n",
    "from qiskit.visualization import plot_bloch_multivector\n",
    "from qiskit_aer import AerSimulator\n",
    "from qiskit.quantum_info import Statevector\n",
    "\n",
    "\n",
    "simulator = AerSimulator()"
   ],
   "id": "e4f3aff5e0bb3732"
  },
  {
   "metadata": {},
   "cell_type": "markdown",
   "source": [
    "1. Реализуйте алгоритм Дойча для функций. Выполните симуляцию. Получите математическое обоснование результата. \n",
    "$$f_1(x) = 0\\\\ f_2(x) = 1\\\\ f_3(x) = x\\\\ f_4(x) = NOT(X)$$"
   ],
   "id": "9924bb918c50d072"
  },
  {
   "metadata": {},
   "cell_type": "code",
   "outputs": [],
   "execution_count": null,
   "source": "",
   "id": "fe40bad93d2c70b9"
  },
  {
   "metadata": {},
   "cell_type": "markdown",
   "source": "2. Реализуйте функцию $f(x_1,x_2) = x_1 \\; XOR \\; x_2$. Выполните симуляцию. Получите математическое обоснование результата.",
   "id": "3138148e27e89791"
  },
  {
   "metadata": {},
   "cell_type": "code",
   "outputs": [],
   "execution_count": null,
   "source": "",
   "id": "c5f1c7f778416619"
  },
  {
   "metadata": {},
   "cell_type": "markdown",
   "source": "3. Реализуйте функцию $f(x_1,x_2) = NOT(x_1 \\; XOR \\; x_2)$. Выполните симуляцию. Получите математическое обоснование результата.",
   "id": "4799d50f64748080"
  },
  {
   "metadata": {},
   "cell_type": "code",
   "outputs": [],
   "execution_count": null,
   "source": "",
   "id": "d8f1ce95ac07e3e9"
  },
  {
   "metadata": {},
   "cell_type": "markdown",
   "source": "4. Реализуйте функцию $f(x_1,x_2) = x_1 \\; OR \\; x_2$. Выполните симуляцию. Получите математическое обоснование результата.",
   "id": "da8699259fb0077d"
  },
  {
   "metadata": {},
   "cell_type": "code",
   "outputs": [],
   "execution_count": null,
   "source": "",
   "id": "d349bf097f1590e0"
  },
  {
   "metadata": {},
   "cell_type": "markdown",
   "source": "5. Реализуйте функцию $f(x_1,x_2) = NOT(x_1 \\; OR \\; x_2)$. Выполните симуляцию. Получите математическое обоснование результата.",
   "id": "c075582649a371e6"
  },
  {
   "metadata": {},
   "cell_type": "code",
   "outputs": [],
   "execution_count": null,
   "source": "",
   "id": "a2746d8e19c49b7a"
  },
  {
   "metadata": {},
   "cell_type": "markdown",
   "source": "6. Реализуйте функцию $f(x_1,x_2) = x_1 \\; AND \\; x_2$. Выполните симуляцию. Получите математическое обоснование результата.",
   "id": "28087e369cc78a9b"
  },
  {
   "metadata": {},
   "cell_type": "code",
   "outputs": [],
   "execution_count": null,
   "source": "",
   "id": "d48cbd2df9762f85"
  },
  {
   "metadata": {},
   "cell_type": "markdown",
   "source": "7. Реализуйте функцию $f(x_1,x_2) = NOT(x_1 \\; AND \\; x_2)$. Выполните симуляцию. Получите математическое обоснование результата.",
   "id": "9a1b267a4fbc5ee1"
  },
  {
   "metadata": {},
   "cell_type": "code",
   "outputs": [],
   "execution_count": null,
   "source": "",
   "id": "8c944fadf7869b6d"
  },
  {
   "metadata": {},
   "cell_type": "markdown",
   "source": "8. Реализуйте алгоритм Гровера для поиска числа 5. Выполните симуляцию. Получите математическое обоснование результата.",
   "id": "e4992a1686ae8bc9"
  },
  {
   "metadata": {},
   "cell_type": "code",
   "outputs": [],
   "execution_count": null,
   "source": "",
   "id": "22921499cb5c1bac"
  },
  {
   "metadata": {},
   "cell_type": "markdown",
   "source": "9. Реализуйте алгоритм Гровера для поиска числа 6. Выполните симуляцию. Получите математическое обоснование результата.",
   "id": "29f689a97ae5419b"
  },
  {
   "metadata": {},
   "cell_type": "code",
   "outputs": [],
   "execution_count": null,
   "source": "",
   "id": "2bf5421119376f9d"
  },
  {
   "metadata": {},
   "cell_type": "markdown",
   "source": "10. Реализуйте алгоритм Гровера для поиска числа 4. Выполните симуляцию. Получите математическое обоснование результата.",
   "id": "750ef3010c100209"
  },
  {
   "metadata": {},
   "cell_type": "code",
   "outputs": [],
   "execution_count": null,
   "source": "",
   "id": "1e87513e19e05164"
  },
  {
   "metadata": {},
   "cell_type": "markdown",
   "source": "11. Реализуйте алгоритм Гровера для поиска числа 7. Выполните симуляцию. Получите математическое обоснование результата.",
   "id": "d2e5e411d2f508f5"
  },
  {
   "metadata": {},
   "cell_type": "code",
   "outputs": [],
   "execution_count": null,
   "source": "",
   "id": "3e56761e4fdc95f9"
  },
  {
   "metadata": {},
   "cell_type": "markdown",
   "source": "12. Реализуйте алгоритм полного сумматора. Выполните симуляцию. Получите математическое обоснование результата.",
   "id": "6ef13e4666a5db90"
  },
  {
   "metadata": {},
   "cell_type": "code",
   "outputs": [],
   "execution_count": null,
   "source": "",
   "id": "c7b19c1c91f4acbc"
  },
  {
   "metadata": {},
   "cell_type": "markdown",
   "source": "13. Реализуйте алгоритм умножения на 4. Выполните симуляцию. Получите математическое обоснование результата.",
   "id": "536f2f6489605a68"
  },
  {
   "metadata": {},
   "cell_type": "code",
   "outputs": [],
   "execution_count": null,
   "source": "",
   "id": "d327d6cf2df5a223"
  },
  {
   "metadata": {},
   "cell_type": "markdown",
   "source": "14. Реализуйте алгоритм умножения на 5. Выполните симуляцию. Получите математическое обоснование результата.",
   "id": "951db41afffb4e16"
  },
  {
   "metadata": {},
   "cell_type": "code",
   "outputs": [],
   "execution_count": null,
   "source": "",
   "id": "a9979201c351d523"
  },
  {
   "metadata": {},
   "cell_type": "markdown",
   "source": "15. Реализуйте алгоритм умножения на 6. Выполните симуляцию. Получите математическое обоснование результата.",
   "id": "c6198af66484bd06"
  },
  {
   "metadata": {},
   "cell_type": "code",
   "outputs": [],
   "execution_count": null,
   "source": "",
   "id": "6bd73dc7842a3ec8"
  },
  {
   "metadata": {},
   "cell_type": "markdown",
   "source": "16. Реализуйте алгоритм получения остатка от деления числа 7 на 15. Выполните симуляцию. Получите математическое обоснование результата.",
   "id": "7e8d83cf7800a84a"
  },
  {
   "metadata": {},
   "cell_type": "code",
   "outputs": [],
   "execution_count": null,
   "source": "",
   "id": "34d57d038dfd6ac5"
  },
  {
   "metadata": {},
   "cell_type": "markdown",
   "source": "17. Реализуйте алгоритм получения остатка от деления числа 6 на 15. Выполните симуляцию. Получите математическое обоснование результата.",
   "id": "ad155994b3fecd5e"
  },
  {
   "metadata": {},
   "cell_type": "code",
   "outputs": [],
   "execution_count": null,
   "source": "",
   "id": "fbb65ec98aab8b2"
  },
  {
   "metadata": {},
   "cell_type": "markdown",
   "source": "18. Реализуйте алгоритм получения остатка от деления числа 17 на 15. Выполните симуляцию. Получите математическое обоснование результата.",
   "id": "b0db6bb05a1dae30"
  },
  {
   "metadata": {},
   "cell_type": "code",
   "outputs": [],
   "execution_count": null,
   "source": "",
   "id": "6ed1b5fd14c24299"
  },
  {
   "metadata": {},
   "cell_type": "markdown",
   "source": "19. Реализуйте алгоритм получения остатка от деления числа 18 на 15. Выполните симуляцию. Получите математическое обоснование результата.",
   "id": "e9bb6df33cf4e3c9"
  },
  {
   "metadata": {},
   "cell_type": "code",
   "outputs": [],
   "execution_count": null,
   "source": "",
   "id": "268ca67492d5cc4b"
  }
 ],
 "metadata": {
  "kernelspec": {
   "display_name": "Python 3",
   "language": "python",
   "name": "python3"
  },
  "language_info": {
   "codemirror_mode": {
    "name": "ipython",
    "version": 2
   },
   "file_extension": ".py",
   "mimetype": "text/x-python",
   "name": "python",
   "nbconvert_exporter": "python",
   "pygments_lexer": "ipython2",
   "version": "2.7.6"
  }
 },
 "nbformat": 4,
 "nbformat_minor": 5
}
