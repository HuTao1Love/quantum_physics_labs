{
 "cells": [
  {
   "metadata": {},
   "cell_type": "markdown",
   "source": [
    "# Лабораторная 2. Упражнение 1. Вариант 22\n",
    "## Импорты"
   ],
   "id": "101d3712eae7790f"
  },
  {
   "metadata": {
    "ExecuteTime": {
     "end_time": "2024-12-22T11:45:49.403968Z",
     "start_time": "2024-12-22T11:45:49.399101Z"
    }
   },
   "cell_type": "code",
   "source": [
    "import math\n",
    "from math import pi\n",
    "\n",
    "from matplotlib import pyplot as plt\n",
    "from matplotlib.backends.backend_agg import FigureCanvasAgg\n",
    "from qiskit import QuantumCircuit\n",
    "from qiskit.visualization import plot_bloch_multivector\n",
    "from qiskit_aer import AerSimulator\n",
    "from qiskit.quantum_info import Statevector\n",
    "\n",
    "\n",
    "simulator = AerSimulator()\n",
    "\n",
    "\n",
    "def print_circuit_cf(qc: QuantumCircuit):\n",
    "    def calc_cf():\n",
    "        state = Statevector.from_instruction(qc.remove_final_measurements(inplace=False))\n",
    "        max_len = state.num_qubits\n",
    "        \n",
    "        return {\n",
    "            '0' * (max_len - len(bin(i)) + 2) + bin(i)[2:]: amplitude\n",
    "            for i, amplitude in enumerate(state.data)\n",
    "        }\n",
    "    \n",
    "    print(*[f\"|{k}> : {v}\" for (k, v) in calc_cf().items()], sep='\\n')"
   ],
   "id": "c4098daf20cfd069",
   "outputs": [],
   "execution_count": 5
  },
  {
   "metadata": {},
   "cell_type": "markdown",
   "source": [
    "1. Соберите схему для получения запутанного состояния квантовой системы из двух кубитов $\\frac{1}{\\sqrt{2}}(|00> - |11>)$. Выполните симуляцию работы схемы. Получите математическое обоснование результата.\n",
    "\n",
    "Про state vector - вероятности нахождения кубитов в некотором состоянии (|$00 \\rangle, |01\\rangle $ и т.д.)  \n",
    "Применение гейтов H и CX приводит к состоянию Белла:\n",
    "- Первые два кубита кет-вектора установлены в ноль \n",
    "> |00⟩ = $ \\begin{bmatrix} 1 \\\\ 0 \\\\ 0 \\\\ 0 \\end{bmatrix} $\n",
    "- А как вентиль Адамара выглядит?  \n",
    "$$H = \\frac{1}{\\sqrt{2}}\\begin{bmatrix} 1 & 1 \\\\ 1 & -1 \\end{bmatrix}$$   \n",
    "- **H**|0$\\rangle  = \\frac{1}{\\sqrt{2}}(|0 \\rangle + |1 \\rangle)$ - применяем вентиль Адамара к первому кубиту\n",
    "    - Итоговый вид с учётом второго кубита:  \n",
    "        - $\\frac{1}{\\sqrt{2}} (|0\\rangle + |1\\rangle) \\otimes |0\\rangle = \\frac{1}{\\sqrt{2}} (|00\\rangle + |10\\rangle)$\n",
    " \n",
    "- **CNOT** связывает кубиты $\\frac{1}{\\sqrt{2}}(|00 \\rangle + |11 \\rangle)$  - XOR каждого кубита с учётом того, что сейчас в кет-векторе на втором месте по сути стоит 0. Если первый кубит 1, второй инвертируется.   \n",
    "    - Итого: мы предполагаем, что второй кубит в нуле у второго кет-вектора. Поэтому он инвертируется в единицу.\n",
    "- **Z** - смена знака  \n",
    "    - А он как работает? Если кубит в единице, он станет отрицательным -> **Z**($|1 \\rangle)$ &#8658; -$|1\\rangle$\n",
    "Получаем $|00\\rangle - |11 \\rangle$"
   ],
   "id": "41675033bb7d400f"
  },
  {
   "metadata": {
    "ExecuteTime": {
     "end_time": "2024-12-22T11:45:49.480725Z",
     "start_time": "2024-12-22T11:45:49.428699Z"
    }
   },
   "cell_type": "code",
   "source": [
    "qc = QuantumCircuit(2)\n",
    "qc.h(0) \n",
    "qc.cx(0, 1) \n",
    "qc.z(0)\n",
    "print_circuit_cf(qc)\n",
    "qc.draw('mpl')"
   ],
   "id": "af93903c5a32668e",
   "outputs": [
    {
     "name": "stdout",
     "output_type": "stream",
     "text": [
      "|00> : (0.7071067811865475+0j)\n",
      "|01> : 0j\n",
      "|10> : 0j\n",
      "|11> : (-0.7071067811865475+0j)\n"
     ]
    },
    {
     "data": {
      "text/plain": [
       "<Figure size 370.906x200.667 with 1 Axes>"
      ],
      "image/png": "[encoded data removed]"
     },
     "execution_count": 6,
     "metadata": {},
     "output_type": "execute_result"
    }
   ],
   "execution_count": 6
  },
  {
   "metadata": {},
   "cell_type": "markdown",
   "source": [
    "2. Соберите схему для получения запутанного состояния квантовой системы из двух кубитов $\\frac{1}{\\sqrt{2}}(|00> + |11>)$. Выполните симуляцию работы схемы. Получите математическое обоснование результата.\n",
    "\n",
    "- Шаги аналогичные предыдущему заданию, только без изменения знака (операции Z)"
   ],
   "id": "7f9b0ed73006b9da"
  },
  {
   "metadata": {
    "ExecuteTime": {
     "end_time": "2024-12-22T11:45:49.532335Z",
     "start_time": "2024-12-22T11:45:49.481514Z"
    }
   },
   "cell_type": "code",
   "source": [
    "qc = QuantumCircuit(2)\n",
    "qc.h(0)\n",
    "qc.cx(0, 1)\n",
    "print_circuit_cf(qc)\n",
    "qc.draw('mpl')"
   ],
   "id": "e9b015b68a304daa",
   "outputs": [
    {
     "name": "stdout",
     "output_type": "stream",
     "text": [
      "|00> : (0.7071067811865475+0j)\n",
      "|01> : 0j\n",
      "|10> : 0j\n",
      "|11> : (0.7071067811865475+0j)\n"
     ]
    },
    {
     "data": {
      "text/plain": [
       "<Figure size 287.294x200.667 with 1 Axes>"
      ],
      "image/png": "[encoded data removed]"
     },
     "execution_count": 7,
     "metadata": {},
     "output_type": "execute_result"
    }
   ],
   "execution_count": 7
  },
  {
   "metadata": {},
   "cell_type": "markdown",
   "source": [
    "3. Соберите схему для получения запутанного состояния квантовой системы из двух кубитов $\\frac{1}{\\sqrt{2}}(|01> - |10>)$. Выполните симуляцию работы схемы. Получите математическое обоснование результата.\n",
    "\n",
    "- Устанавливаем первые два кубита в ноль.\n",
    "- Применяем логическое NOT ко второму кубиту, инвертируя его. Это выполняет вентиль X.\n",
    "<p align=\"left\">\n",
    "X(|q<sub>0</sub>, q<sub>1</sub>⟩) = |01⟩ = $ \\begin{bmatrix} 0 \\\\ 1 \\\\ 0 \\\\ 0 \\end{bmatrix} $\n",
    "</p>   \n",
    "- Применяем вентиль Адамара\n",
    "- CNOT к обоим кубитам \n",
    "- Вентиль Z() меняет знак кубита\n",
    "$$H =\\begin{bmatrix} 1 & 0 \\\\ 0 & -1 \\end{bmatrix}$$ "
   ],
   "id": "c81248543ed80c60"
  },
  {
   "metadata": {
    "ExecuteTime": {
     "end_time": "2024-12-22T11:45:49.590111Z",
     "start_time": "2024-12-22T11:45:49.533498Z"
    }
   },
   "cell_type": "code",
   "source": [
    "qc = QuantumCircuit(2)\n",
    "qc.x(1) \n",
    "qc.h(0)\n",
    "qc.cx(0, 1)\n",
    "qc.z(0)\n",
    "print_circuit_cf(qc)\n",
    "qc.draw('mpl')"
   ],
   "id": "ebab45d7eb174c4",
   "outputs": [
    {
     "name": "stdout",
     "output_type": "stream",
     "text": [
      "|00> : 0j\n",
      "|01> : (-0.7071067811865475+0j)\n",
      "|10> : (0.7071067811865475+0j)\n",
      "|11> : 0j\n"
     ]
    },
    {
     "data": {
      "text/plain": [
       "<Figure size 370.906x200.667 with 1 Axes>"
      ],
      "image/png": "[encoded data removed]"
     },
     "execution_count": 8,
     "metadata": {},
     "output_type": "execute_result"
    }
   ],
   "execution_count": 8
  },
  {
   "metadata": {},
   "cell_type": "markdown",
   "source": "4. Соберите схему для получения запутанного состояния квантовой системы из двух кубитов $\\frac{1}{\\sqrt{2}}(|01> + |10>)$. Выполните симуляцию работы схемы. Получите математическое обоснование результата.",
   "id": "3fc447221b7401c1"
  },
  {
   "metadata": {
    "ExecuteTime": {
     "end_time": "2024-12-22T11:45:49.639108Z",
     "start_time": "2024-12-22T11:45:49.592100Z"
    }
   },
   "cell_type": "code",
   "source": [
    "qc = QuantumCircuit(2)\n",
    "qc.x(1)\n",
    "qc.h(0)\n",
    "qc.cx(0, 1)\n",
    "print_circuit_cf(qc)\n",
    "qc.draw('mpl')"
   ],
   "id": "8cb0ad57109b7287",
   "outputs": [
    {
     "name": "stdout",
     "output_type": "stream",
     "text": [
      "|00> : 0j\n",
      "|01> : (0.7071067811865475+0j)\n",
      "|10> : (0.7071067811865475+0j)\n",
      "|11> : 0j\n"
     ]
    },
    {
     "data": {
      "text/plain": [
       "<Figure size 287.294x200.667 with 1 Axes>"
      ],
      "image/png": "[encoded data removed]"
     },
     "execution_count": 9,
     "metadata": {},
     "output_type": "execute_result"
    }
   ],
   "execution_count": 9
  },
  {
   "metadata": {},
   "cell_type": "markdown",
   "source": [
    "5. Соберите схему для получения запутанного состояния квантовой системы из двух кубитов. Выполните симуляцию работы схемы. Получите математическое обоснование результата.\n",
    "> Состояние кубитов: a|00> - b|11>:\n",
    "$|a|^2 = 15\\\\ |b|^2 = 85$\n",
    "\n",
    "Здесь применяется вращение на угол $2 \\cdot \\arccos(\\theta)$\n",
    "$$R_y(\\theta) = \n",
    "\\begin{bmatrix} \n",
    "\\cos\\left(\\frac{\\theta}{2}\\right) & -\\sin\\left(\\frac{\\theta}{2}\\right) \\\\ \n",
    "\\sin\\left(\\frac{\\theta}{2}\\right) & \\cos\\left(\\frac{\\theta}{2}\\right) \n",
    "\\end{bmatrix} $$  \n",
    "Остальные шаги ранее описаны"
   ],
   "id": "fd94fd151aaeb655"
  },
  {
   "metadata": {
    "ExecuteTime": {
     "end_time": "2024-12-22T11:45:49.705199Z",
     "start_time": "2024-12-22T11:45:49.640116Z"
    }
   },
   "cell_type": "code",
   "source": [
    "a, b = math.sqrt(0.55), math.sqrt(0.45)\n",
    "\n",
    "qc = QuantumCircuit(2)\n",
    "qc.x(1)  \n",
    "qc.h(0) \n",
    "qc.cx(0, 1)  \n",
    "qc.ry(2 * math.acos(a), 0)  \n",
    "qc.cx(0, 1)\n",
    "qc.z(0)\n",
    "print_circuit_cf(qc)\n",
    "qc.draw('mpl')"
   ],
   "id": "61d0f5819d27e75d",
   "outputs": [
    {
     "name": "stdout",
     "output_type": "stream",
     "text": [
      "|00> : (-0.4743416490252569+0j)\n",
      "|01> : (-0.4743416490252569+0j)\n",
      "|10> : (0.5244044240850757+0j)\n",
      "|11> : (-0.5244044240850757+0j)\n"
     ]
    },
    {
     "data": {
      "text/plain": [
       "<Figure size 538.128x200.667 with 1 Axes>"
      ],
      "image/png": "[encoded data removed]"
     },
     "execution_count": 10,
     "metadata": {},
     "output_type": "execute_result"
    }
   ],
   "execution_count": 10
  },
  {
   "metadata": {},
   "cell_type": "markdown",
   "source": [
    "6. Соберите схему для получения запутанного состояния квантовой системы из трех кубитов a|010> + b|111>. Выполните симуляцию работы схемы. Получите математическое обоснование результата.\n",
    "\n",
    "Устанавливаем начальное состояние кубитов в $|000\\rangle$    \n",
    "\n",
    "Применяем X ко второму кубиту:  \n",
    "<p align=\"left\">\n",
    "|010⟩ = $ \\begin{bmatrix} 0 \\\\ 0 \\\\ 1 \\\\ 0 \\\\ 0 \\\\ 0 \\\\ 0 \\\\ 0 \\end{bmatrix} $\n",
    "</p>  \n",
    "\n",
    "Применяется вращение на угол $2 \\cdot arccos(\\theta)$  \n",
    "$R_y(\\theta) = \n",
    "\\begin{bmatrix} \n",
    "\\cos\\left(\\frac{\\theta}{2}\\right) & -\\sin\\left(\\frac{\\theta}{2}\\right) \\\\ \n",
    "\\sin\\left(\\frac{\\theta}{2}\\right) & \\cos\\left(\\frac{\\theta}{2}\\right) \n",
    "\\end{bmatrix} $   <br> <br>\n",
    "**CCX** - Toffoli, вентиль с двумя управляемыми кубитами. Для изменения 3 кубита первые два будут должны быть установлены в единицу.  \n",
    "$|110 \\rangle$ &#8658; $|111\\rangle$\n",
    "\n"
   ],
   "id": "270225025c6aa0bb"
  },
  {
   "metadata": {
    "ExecuteTime": {
     "end_time": "2024-12-22T11:45:49.708792Z",
     "start_time": "2024-12-22T11:45:49.706656Z"
    }
   },
   "cell_type": "code",
   "source": [
    "a, b = math.sqrt(0.6), math.sqrt(0.4)  \n",
    "\n",
    "qc = QuantumCircuit(3)\n",
    "qc.x(1)  \n",
    "qc.ry(2 * math.acos(a), 0)  \n",
    "qc.ccx(0, 1, 2)\n",
    "print_circuit_cf(qc)\n",
    "qc.draw('mpl')"
   ],
   "id": "cb95af4bd06584aa",
   "outputs": [],
   "execution_count": 10
  },
  {
   "metadata": {},
   "cell_type": "markdown",
   "source": [
    "7. Соберите схему для получения запутанного состояния квантовой системы из двух кубитов $\\alpha|00> + \\beta|01> + \\gamma|11>$. Выполните симуляцию работы схемы. Получите математическое обоснование результата.\n",
    "\n",
    "$$|\\alpha|^2 = 50\\\\|\\beta|^2 = 20\\\\|\\gamma|^2 = 30$$\n",
    "\n",
    "- alpha, beta, gamma - вероятности для состояний $|00\\rangle, |01\\rangle, |11\\rangle$ . \n",
    "- Применяется вентиль вращения вокруг оси Y $R(\\theta)$на первом кубите (кубит 0). Вращение происходит на угол 2*arccos($\\alpha$). Этот вентиль изменяет амплитуду первого кубита, чтобы достичь состояния $|00\\rangle$ или $|01\\rangle$ в зависимости от значения $\\alpha$. Мы используем формулу для угла вращения $\\theta = 2* \\arccos($\\\\alpha$)$, чтобы соответствовать амлитуде $\\alpha$ для состояния $|00\\rangle$.  \n",
    "- Применяется вентиль вращения $R_{y}$ для второго кубита. Мы устанавливаем амплитуду для второго кубита с помощью угла $\\theta = 2$. arccos($\\frac{\\beta}{\\sqrt{\\beta^{2}+\\gamma^{2}}}$). Это делается для того, чтобы настроить вероятности для состояний $|01 \\rangle и |11\\rangle$, где амплитуды  $\\beta и \\gamma$ зависят от этой величины.\n"
   ],
   "id": "9ef51e0dc4fa5787"
  },
  {
   "metadata": {
    "ExecuteTime": {
     "end_time": "2024-12-22T11:45:49.712059Z",
     "start_time": "2024-12-22T11:45:49.709938Z"
    }
   },
   "cell_type": "code",
   "source": [
    "alpha, beta, gamma = math.sqrt(0.35), math.sqrt(0.15), math.sqrt(0.5) \n",
    "norm = math.sqrt(alpha**2 + beta**2 + gamma**2) \n",
    "alpha, beta, gamma = alpha / norm, beta / norm, gamma / norm\n",
    "\n",
    "qc = QuantumCircuit(2)\n",
    "qc.ry(2 * math.acos(alpha), 0)  \n",
    "qc.cx(0, 1)  \n",
    "qc.ry(2 * math.acos(beta / math.sqrt(beta**2 + gamma**2)), 1)  \n",
    "print_circuit_cf(qc)\n",
    "qc.draw('mpl')\n"
   ],
   "id": "789191d52cc23ad4",
   "outputs": [],
   "execution_count": 10
  }
 ],
 "metadata": {
  "kernelspec": {
   "display_name": "Python 3",
   "language": "python",
   "name": "python3"
  },
  "language_info": {
   "codemirror_mode": {
    "name": "ipython",
    "version": 2
   },
   "file_extension": ".py",
   "mimetype": "text/x-python",
   "name": "python",
   "nbconvert_exporter": "python",
   "pygments_lexer": "ipython2",
   "version": "2.7.6"
  }
 },
 "nbformat": 4,
 "nbformat_minor": 5
}
