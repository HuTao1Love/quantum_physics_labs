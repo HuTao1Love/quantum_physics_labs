{
 "cells": [
  {
   "metadata": {},
   "cell_type": "markdown",
   "source": [
    "# Лабораторная 2. Упражнение 1. Вариант 22\n",
    "## Импорты"
   ],
   "id": "101d3712eae7790f"
  },
  {
   "metadata": {},
   "cell_type": "code",
   "outputs": [],
   "execution_count": null,
   "source": [
    "from math import pi\n",
    "\n",
    "from matplotlib import pyplot as plt\n",
    "from matplotlib.backends.backend_agg import FigureCanvasAgg\n",
    "from qiskit import QuantumCircuit\n",
    "from qiskit.visualization import plot_bloch_multivector\n",
    "from qiskit_aer import AerSimulator\n",
    "from qiskit.quantum_info import Statevector\n",
    "\n",
    "\n",
    "simulator = AerSimulator()"
   ],
   "id": "c4098daf20cfd069"
  },
  {
   "metadata": {},
   "cell_type": "markdown",
   "source": "1. Соберите схему для получения запутанного состояния квантовой системы из двух кубитов $\\frac{1}{\\sqrt{2}}(|00> - |11>)$. Выполните симуляцию работы схемы. Получите математическое обоснование результата.",
   "id": "41675033bb7d400f"
  },
  {
   "metadata": {},
   "cell_type": "code",
   "outputs": [],
   "execution_count": null,
   "source": "",
   "id": "af93903c5a32668e"
  },
  {
   "metadata": {},
   "cell_type": "markdown",
   "source": "2. Соберите схему для получения запутанного состояния квантовой системы из двух кубитов $\\frac{1}{\\sqrt{2}}(|00> + |11>)$. Выполните симуляцию работы схемы. Получите математическое обоснование результата.",
   "id": "7f9b0ed73006b9da"
  },
  {
   "metadata": {},
   "cell_type": "code",
   "outputs": [],
   "execution_count": null,
   "source": "",
   "id": "e9b015b68a304daa"
  },
  {
   "metadata": {},
   "cell_type": "markdown",
   "source": "3. Соберите схему для получения запутанного состояния квантовой системы из двух кубитов $\\frac{1}{\\sqrt{2}}(|01> - |10>)$. Выполните симуляцию работы схемы. Получите математическое обоснование результата.",
   "id": "c81248543ed80c60"
  },
  {
   "metadata": {},
   "cell_type": "code",
   "outputs": [],
   "execution_count": null,
   "source": "",
   "id": "ebab45d7eb174c4"
  },
  {
   "metadata": {},
   "cell_type": "markdown",
   "source": "4. Соберите схему для получения запутанного состояния квантовой системы из двух кубитов $\\frac{1}{\\sqrt{2}}(|01> + |10>)$. Выполните симуляцию работы схемы. Получите математическое обоснование результата.",
   "id": "3fc447221b7401c1"
  },
  {
   "metadata": {},
   "cell_type": "code",
   "outputs": [],
   "execution_count": null,
   "source": "",
   "id": "8cb0ad57109b7287"
  },
  {
   "metadata": {},
   "cell_type": "markdown",
   "source": [
    "5. Соберите схему для получения запутанного состояния квантовой системы из двух кубитов. Выполните симуляцию работы схемы. Получите математическое обоснование результата.\n",
    "> Состояние кубитов: a|00> - b|11> \n",
    "\n",
    "$$|a|^2 = 15\\\\ |b|^2 = 85$$"
   ],
   "id": "fd94fd151aaeb655"
  },
  {
   "metadata": {},
   "cell_type": "code",
   "outputs": [],
   "execution_count": null,
   "source": "",
   "id": "61d0f5819d27e75d"
  },
  {
   "metadata": {},
   "cell_type": "markdown",
   "source": [
    "6. Соберите схему для получения запутанного состояния квантовой системы из трех кубитов a|010> + b|111>. Выполните симуляцию работы схемы. Получите математическое обоснование результата.\n",
    "> Состояние кубитов: a|00> - b|11> \n",
    "\n",
    "$$|a|^2 = 15\\\\ |b|^2 = 85$$"
   ],
   "id": "270225025c6aa0bb"
  },
  {
   "metadata": {},
   "cell_type": "code",
   "outputs": [],
   "execution_count": null,
   "source": "",
   "id": "cb95af4bd06584aa"
  },
  {
   "metadata": {},
   "cell_type": "markdown",
   "source": [
    "7. Соберите схему для получения запутанного состояния квантовой системы из двух кубитов $\\alpha|00> + \\beta|01> + \\gamma|11>$. Выполните симуляцию работы схемы. Получите математическое обоснование результата.\n",
    "\n",
    "$$|\\alpha|^2 = 50\\\\|\\beta|^2 = 20\\\\|\\gamma|^2 = 30$$"
   ],
   "id": "9ef51e0dc4fa5787"
  },
  {
   "metadata": {},
   "cell_type": "code",
   "outputs": [],
   "execution_count": null,
   "source": "",
   "id": "789191d52cc23ad4"
  }
 ],
 "metadata": {
  "kernelspec": {
   "display_name": "Python 3",
   "language": "python",
   "name": "python3"
  },
  "language_info": {
   "codemirror_mode": {
    "name": "ipython",
    "version": 2
   },
   "file_extension": ".py",
   "mimetype": "text/x-python",
   "name": "python",
   "nbconvert_exporter": "python",
   "pygments_lexer": "ipython2",
   "version": "2.7.6"
  }
 },
 "nbformat": 4,
 "nbformat_minor": 5
}
